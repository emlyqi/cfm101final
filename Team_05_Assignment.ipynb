{
 "cells": [
  {
   "cell_type": "code",
   "metadata": {
    "ExecuteTime": {
     "end_time": "2024-11-11T14:39:59.086648Z",
     "start_time": "2024-11-11T14:39:59.082883Z"
    }
   },
   "source": [
    "#These are the libraries you can use.  You may add any libraries directy related to threading if this is a direction\n",
    "#you wish to go (this is not from the course, so it's entirely on you if you wish to use threading).  Any\n",
    "#further libraries you wish to use you must email me, james@uwaterloo.ca, for permission.\n",
    "\n",
    "from IPython.display import display, Math, Latex\n",
    "\n",
    "import pandas as pd\n",
    "import numpy as np\n",
    "import numpy_financial as npf\n",
    "import yfinance as yf\n",
    "import matplotlib.pyplot as plt\n",
    "import random\n",
    "from datetime import datetime"
   ],
   "outputs": [],
   "execution_count": 12
  },
  {
   "cell_type": "markdown",
   "metadata": {},
   "source": [
    "## Group Assignment\n",
    "### Team Number: 05\n",
    "### Team Member Names: James Begin, Jonathan Wen, Emily Qi\n",
    "### Team Strategy Chosen: Market Meet"
   ]
  },
  {
   "cell_type": "markdown",
   "metadata": {},
   "source": [
    "Disclose any use of AI for this assignment below (detail where and how you used it).  Please see the course outline for acceptable uses of AI.\n"
   ]
  },
  {
   "cell_type": "code",
   "metadata": {
    "ExecuteTime": {
     "end_time": "2024-11-11T14:39:59.107766Z",
     "start_time": "2024-11-11T14:39:59.105123Z"
    }
   },
   "source": [],
   "outputs": [],
   "execution_count": null
  },
  {
   "cell_type": "markdown",
   "metadata": {},
   "source": [
    "## Contribution Declaration\n",
    "\n",
    "The following team members made a meaningful contribution to this assignment:\n",
    "\n",
    "Insert Names Here.\n",
    "\n",
    "# Introduction \n",
    "The goal of the market \"meet\" portfolio is to match the returns of the average of the TSX60 and S&P500 indices as closely as possibly. To do this, we look at various indicators that can provide insight into a stock's ability to match market returns. Below are the factors we plan to take into account while constructing our portfolio:  \n",
    "- Volume\n",
    "- Price\n",
    "- Beta\n",
    "- Market Cap\n",
    "- Earnings and Dividend Dates\n",
    "- Fund/Institutional Holdings  \n",
    "\n",
    "## Filtering\n",
    "First, we ignore any delisted stocks, or non-US and Canadian Stocks, then filter by average monthly volume:\n",
    "  \n",
    "\n"
   ]
  },
  {
   "metadata": {
    "ExecuteTime": {
     "end_time": "2024-11-11T14:40:00.112515Z",
     "start_time": "2024-11-11T14:39:59.124342Z"
    }
   },
   "cell_type": "code",
   "source": [
    "tickers = pd.read_csv('Tickers_Example.csv')\n",
    "tickerlist = [tickers.columns[0]]\n",
    "tickerlist += [i for i in tickers.iloc[:,0]]\n",
    "startdate = '2023-10-01'\n",
    "enddate = '2024-09-30'\n",
    "stockdata = yf.download(tickerlist, start=startdate, end=enddate)\n",
    "delisted = list(yf.shared._ERRORS.keys())\n",
    "for i in delisted:\n",
    "    tickerlist.remove(i)\n",
    "    \n",
    "exchangelist = ['NMS', 'NYQ', 'TOR']\n",
    "minprice = 5\n",
    "minvolume = 100000\n",
    "\n",
    "for ticker in tickerlist:\n",
    "    t = yf.Ticker(ticker)\n",
    "    hist = t.history(start=startdate, end=enddate, period='1mo')\n",
    "    if (t.get_history_metadata())['exchangeName'] not in exchangelist or hist['Volume'].mean() < minvolume or hist['Close'].mean() < minprice:\n",
    "        tickerlist.remove(ticker)\n",
    "\n",
    "        \n",
    "    "
   ],
   "outputs": [
    {
     "name": "stderr",
     "output_type": "stream",
     "text": [
      "[*********************100%***********************]  41 of 41 completed\n",
      "\n",
      "4 Failed downloads:\n",
      "['MON', 'RTN', 'AGN', 'CELG']: YFTzMissingError('$%ticker%: possibly delisted; no timezone found')\n"
     ]
    }
   ],
   "execution_count": 13
  },
  {
   "metadata": {},
   "cell_type": "markdown",
   "source": [
    "## Beta\n",
    "Beta is a measure of volatility of a security or portfolio compared to the market. A beta of 1.0 indicates that a stock follows the market's returns exactly. In this case, yfinance provides a beta value comparing each stock the S&P500 index. However, as we want to match the average of both the TSX60 and the S&P500, we will calculate beta when compared to the TSX60. Then, we can take the average of the two betas in order to accurately represent the volatility compared to the index used in this assignment.  \n",
    "  \n",
    "We can calculate beta using the formula (Covariance(Individual Returns, Market Returns)) / (Variance(Market Returns))"
   ]
  },
  {
   "metadata": {
    "ExecuteTime": {
     "end_time": "2024-11-11T15:31:28.176375Z",
     "start_time": "2024-11-11T15:31:25.953255Z"
    }
   },
   "cell_type": "code",
   "source": [
    "tsxprice = yf.download('XIU.TO', start=startdate, end=enddate)['Adj Close']\n",
    "beta_dict = {}\n",
    "#stockdata.columns = stockdata.columns.droplevel(0)\n",
    "closedata = stockdata.loc[:, 'Adj Close']\n",
    "tsxpct = tsxprice.pct_change(fill_method=None)\n",
    "tsxvar = tsxpct.var().iloc[0]\n",
    "for ticker in tickerlist:\n",
    "    #calculate beta\n",
    "    common = closedata[ticker].index.intersection(tsxprice.index)\n",
    "    closepct = closedata.loc[common, ticker].pct_change(fill_method=None)\n",
    "    beta1 = closepct.cov(tsxpct.iloc[:,0]) / tsxvar\n",
    "    beta2 = yf.Ticker(ticker).info.get('beta')\n",
    "    beta_dict[ticker] = abs(1.0 - (beta1 + (beta2 if beta2 else beta1)) / 2)\n",
    "\n",
    "\n"
   ],
   "outputs": [
    {
     "name": "stderr",
     "output_type": "stream",
     "text": [
      "[*********************100%***********************]  1 of 1 completed\n"
     ]
    }
   ],
   "execution_count": 78
  },
  {
   "metadata": {
    "ExecuteTime": {
     "end_time": "2024-11-11T15:32:04.598766Z",
     "start_time": "2024-11-11T15:32:04.595196Z"
    }
   },
   "cell_type": "code",
   "source": [
    "print('The stocks sorted by closeness to 1.0 are: ')\n",
    "for t in sorted(beta_dict, key=beta_dict.get, reverse=False):\n",
    "    print(t, beta_dict[t])"
   ],
   "outputs": [
    {
     "name": "stdout",
     "output_type": "stream",
     "text": [
      "The stocks sorted by closeness to 1.0 are: \n",
      "AIG 0.007020386424529068\n",
      "UPS 0.011397143560423872\n",
      "ACN 0.03863853946721041\n",
      "BK 0.03901844182473324\n",
      "UNP 0.06783171134318278\n",
      "AMZN 0.08500735473387966\n",
      "AAPL 0.10079884557436536\n",
      "TXN 0.13161826360272855\n",
      "RY.TO 0.13576631776083803\n",
      "TD.TO 0.13905730404579497\n",
      "BLK 0.20768128270713593\n",
      "AXP 0.2118477612945293\n",
      "CAT 0.2727220927641658\n",
      "USB 0.33476286679101586\n",
      "BA 0.34273274178105306\n",
      "BAC 0.3553168151963777\n",
      "QCOM 0.3791578100996622\n",
      "C 0.4035430179756432\n",
      "T.TO 0.4194668623417658\n",
      "PFE 0.4414258709464143\n",
      "MO 0.48138576097116315\n",
      "PYPL 0.4846358464529774\n",
      "LLY 0.4867046466249705\n",
      "PM 0.501753810924371\n",
      "ABT 0.5170228810947448\n",
      "BMY 0.5263154744483574\n",
      "ABBV 0.5529770641027439\n",
      "BIIB 0.5771155797098365\n",
      "KO 0.5963532474289345\n",
      "UNH 0.601832106064732\n",
      "LMT 0.6408911812196006\n",
      "PEP 0.6603997625167022\n",
      "MRK 0.6967549952373611\n",
      "PG 0.7792029723077335\n",
      "CL 0.7981922076188871\n",
      "SHOP.TO 1.3542786004030116\n"
     ]
    }
   ],
   "execution_count": 80
  },
  {
   "metadata": {
    "ExecuteTime": {
     "end_time": "2024-11-11T15:37:52.958415Z",
     "start_time": "2024-11-11T15:37:52.915927Z"
    }
   },
   "cell_type": "code",
   "source": "",
   "outputs": [
    {
     "name": "stdout",
     "output_type": "stream",
     "text": [
      "None\n"
     ]
    }
   ],
   "execution_count": 82
  },
  {
   "metadata": {},
   "cell_type": "code",
   "outputs": [],
   "execution_count": null,
   "source": ""
  }
 ],
 "metadata": {
  "kernelspec": {
   "display_name": "Python 3",
   "language": "python",
   "name": "python3"
  },
  "language_info": {
   "codemirror_mode": {
    "name": "ipython",
    "version": 3
   },
   "file_extension": ".py",
   "mimetype": "text/x-python",
   "name": "python",
   "nbconvert_exporter": "python",
   "pygments_lexer": "ipython3",
   "version": "3.8.8"
  }
 },
 "nbformat": 4,
 "nbformat_minor": 2
}
