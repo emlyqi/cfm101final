{
 "cells": [
  {
   "cell_type": "code",
   "metadata": {
    "ExecuteTime": {
     "end_time": "2024-11-07T23:00:07.759615Z",
     "start_time": "2024-11-07T23:00:05.415210Z"
    }
   },
   "source": [
    "#These are the libraries you can use.  You may add any libraries directy related to threading if this is a direction\n",
    "#you wish to go (this is not from the course, so it's entirely on you if you wish to use threading).  Any\n",
    "#further libraries you wish to use you must email me, james@uwaterloo.ca, for permission.\n",
    "\n",
    "from IPython.display import display, Math, Latex\n",
    "\n",
    "import pandas as pd\n",
    "import numpy as np\n",
    "import numpy_financial as npf\n",
    "import yfinance as yf\n",
    "import matplotlib.pyplot as plt\n",
    "import random\n",
    "from datetime import datetime"
   ],
   "outputs": [],
   "execution_count": 1
  },
  {
   "cell_type": "markdown",
   "metadata": {},
   "source": [
    "## Group Assignment\n",
    "### Team Number: 05\n",
    "### Team Member Names: James Begin, Jonathan Wen, Emily Qi\n",
    "### Team Strategy Chosen: Market Meet"
   ]
  },
  {
   "cell_type": "markdown",
   "metadata": {},
   "source": [
    "Disclose any use of AI for this assignment below (detail where and how you used it).  Please see the course outline for acceptable uses of AI.\n"
   ]
  },
  {
   "cell_type": "code",
   "metadata": {
    "ExecuteTime": {
     "end_time": "2024-11-07T23:00:07.767100Z",
     "start_time": "2024-11-07T23:00:07.764172Z"
    }
   },
   "source": [],
   "outputs": [],
   "execution_count": null
  },
  {
   "cell_type": "markdown",
   "metadata": {},
   "source": [
    "## Contribution Declaration\n",
    "\n",
    "The following team members made a meaningful contribution to this assignment:\n",
    "\n",
    "Insert Names Here.\n",
    "\n",
    "# Introduction \n",
    "The goal of the market \"meet\" portfolio is to match the returns of the average of the TSX60 and S&P500 indices as closely as possibly. To do this, we look at various indicators that can provide insight into a stock's ability to match market returns. Below are the factors we plan to take into account while constructing our portfolio:  \n",
    "- Volume\n",
    "- Price\n",
    "- Beta\n",
    "- Market Cap\n",
    "- Earnings and Dividend Dates\n",
    "- Fund/Institutional Holdings  \n",
    "\n",
    "## Filtering\n",
    "First, we ignore any delisted stocks, or non-US and Canadian Stocks, then filter by average monthly volume:\n",
    "  \n",
    "\n"
   ]
  },
  {
   "metadata": {
    "ExecuteTime": {
     "end_time": "2024-11-07T23:10:44.873497Z",
     "start_time": "2024-11-07T23:10:43.893648Z"
    }
   },
   "cell_type": "code",
   "source": [
    "tickers = pd.read_csv('Tickers_Example.csv')\n",
    "tickerlist = [tickers.columns[0]]\n",
    "tickerlist += [i for i in tickers.iloc[:,0]]\n",
    "startdate = '2023-10-01'\n",
    "enddate = '2024-09-30'\n",
    "data1 = yf.download(tickerlist, start=startdate, end=enddate)\n",
    "delisted = list(yf.shared._ERRORS.keys())\n",
    "for i in delisted:\n",
    "    tickerlist.remove(i)\n",
    "    \n",
    "exchangelist = ['NMS', 'NYQ', 'TOR']\n",
    "minprice = 5\n",
    "minvolume = 100000\n",
    "\n",
    "for ticker in tickerlist:\n",
    "    t = yf.Ticker(ticker)\n",
    "    hist = t.history(start=startdate, end=enddate, period='1mo')\n",
    "    if (t.get_history_metadata())['exchangeName'] not in exchangelist or hist['Volume'].mean() < minvolume or hist['Close'].mean() < minprice:\n",
    "        tickerlist.remove(ticker)\n",
    "\n",
    "        \n",
    "    "
   ],
   "outputs": [
    {
     "name": "stderr",
     "output_type": "stream",
     "text": [
      "[*********************100%***********************]  41 of 41 completed\n",
      "\n",
      "4 Failed downloads:\n",
      "['CELG', 'AGN', 'RTN', 'MON']: YFTzMissingError('$%ticker%: possibly delisted; no timezone found')\n"
     ]
    },
    {
     "name": "stdout",
     "output_type": "stream",
     "text": [
      "yfinance.Ticker object <AAPL>\n",
      "yfinance.Ticker object <ABBV>\n",
      "yfinance.Ticker object <ABT>\n",
      "yfinance.Ticker object <ACN>\n",
      "yfinance.Ticker object <AIG>\n",
      "yfinance.Ticker object <AMZN>\n",
      "yfinance.Ticker object <AXP>\n",
      "yfinance.Ticker object <BA>\n",
      "yfinance.Ticker object <BAC>\n",
      "yfinance.Ticker object <BB.TO>\n",
      "yfinance.Ticker object <BK>\n",
      "yfinance.Ticker object <BLK>\n",
      "yfinance.Ticker object <BMY>\n",
      "yfinance.Ticker object <C>\n",
      "yfinance.Ticker object <CAT>\n",
      "yfinance.Ticker object <CL>\n",
      "yfinance.Ticker object <KO>\n",
      "yfinance.Ticker object <LLY>\n",
      "yfinance.Ticker object <LMT>\n",
      "yfinance.Ticker object <MO>\n",
      "yfinance.Ticker object <MRK>\n",
      "yfinance.Ticker object <PEP>\n",
      "yfinance.Ticker object <PFE>\n",
      "yfinance.Ticker object <PG>\n",
      "yfinance.Ticker object <PM>\n",
      "yfinance.Ticker object <PYPL>\n",
      "yfinance.Ticker object <QCOM>\n",
      "yfinance.Ticker object <RY.TO>\n",
      "yfinance.Ticker object <SHOP.TO>\n",
      "yfinance.Ticker object <T.TO>\n",
      "yfinance.Ticker object <TD.TO>\n",
      "yfinance.Ticker object <TXN>\n",
      "yfinance.Ticker object <UNH>\n",
      "yfinance.Ticker object <UNP>\n",
      "yfinance.Ticker object <UPS>\n",
      "yfinance.Ticker object <USB>\n"
     ]
    }
   ],
   "execution_count": 14
  },
  {
   "metadata": {},
   "cell_type": "markdown",
   "source": [
    "## Beta\n",
    "Beta is a measure of volatility of a security or portfolio compared to the market. A beta of 1.0 indicates that a stock follows the market's returns exactly. In this case, yfinance provides a beta value comparing each stock the S&P500 index. However, as we want to match the average of both the TSX60 and the S&P500, we will calculate beta when compared to the TSX60. Then, we can take the average of the two betas in order to accurately represent the volatility compared to the index used in this assignment.  \n",
    "  \n",
    "We can calculate beta using the formula (Covariance(Individual Returns, Market Returns)) / (Variance(Market Returns))"
   ]
  },
  {
   "metadata": {
    "ExecuteTime": {
     "end_time": "2024-11-07T23:00:12.238978300Z",
     "start_time": "2024-11-07T22:56:17.348105Z"
    }
   },
   "cell_type": "code",
   "source": "",
   "outputs": [],
   "execution_count": null
  }
 ],
 "metadata": {
  "kernelspec": {
   "display_name": "Python 3",
   "language": "python",
   "name": "python3"
  },
  "language_info": {
   "codemirror_mode": {
    "name": "ipython",
    "version": 3
   },
   "file_extension": ".py",
   "mimetype": "text/x-python",
   "name": "python",
   "nbconvert_exporter": "python",
   "pygments_lexer": "ipython3",
   "version": "3.8.8"
  }
 },
 "nbformat": 4,
 "nbformat_minor": 2
}
